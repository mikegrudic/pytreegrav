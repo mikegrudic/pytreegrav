{
 "cells": [
  {
   "cell_type": "code",
   "execution_count": 6,
   "metadata": {},
   "outputs": [
    {
     "name": "stdout",
     "output_type": "stream",
     "text": [
      "Using matplotlib backend: TkAgg\n",
      "%pylab is deprecated, use %matplotlib inline and import the required libraries.\n",
      "Populating the interactive namespace from numpy and matplotlib\n",
      "Found 1 CUDA devices\n",
      "id 0         b'NVIDIA T1000'                              [SUPPORTED]\n",
      "                      Compute Capability: 7.5\n",
      "                           PCI Device ID: 0\n",
      "                              PCI Bus ID: 101\n",
      "                                    UUID: GPU-b303fbe2-bd8d-69ed-9a8c-01198eed12ed\n",
      "                                Watchdog: Enabled\n",
      "             FP32/FP64 Performance Ratio: 32\n",
      "Summary:\n",
      "\t1/1 devices are supported\n"
     ]
    },
    {
     "name": "stderr",
     "output_type": "stream",
     "text": [
      "/home/mgrudic/.local/lib/python3.9/site-packages/IPython/core/magics/pylab.py:162: UserWarning: pylab import has clobbered these variables: ['sqrt', 'vectorize']\n",
      "`%matplotlib` prevents importing * from pylab and numpy\n",
      "  warn(\"pylab import has clobbered these variables: %s\"  % clobbered +\n",
      "/home/mgrudic/.local/lib/python3.9/site-packages/numba/cuda/cudadrv/devicearray.py:886: NumbaPerformanceWarning: \u001b[1mHost array used in CUDA kernel will incur copy overhead to/from device.\u001b[0m\n",
      "  warn(NumbaPerformanceWarning(msg))\n"
     ]
    },
    {
     "name": "stdout",
     "output_type": "stream",
     "text": [
      "3.88 s ± 18.9 ms per loop (mean ± std. dev. of 7 runs, 1 loop each)\n"
     ]
    }
   ],
   "source": [
    "%pylab\n",
    "from numba import (\n",
    "    jit,\n",
    "    vectorize,\n",
    "    float32,\n",
    "    float64,\n",
    "    cfunc,\n",
    "    njit,\n",
    "    prange,\n",
    "    get_num_threads,\n",
    "    set_num_threads,\n",
    ")\n",
    "import numpy as np\n",
    "from math import sqrt\n",
    "from scipy.special import comb\n",
    "from scipy.interpolate import interp2d, RectBivariateSpline\n",
    "from numba import cuda\n",
    "from numpy import float64, float32, int32, ndarray\n",
    "\n",
    "cuda.detect()\n",
    "\n",
    "\n",
    "# Controls threads per block and shared memory usage.\n",
    "# The computation will be done on blocks of TPBxTPB elements.\n",
    "TPB = 16\n",
    "\n",
    "\n",
    "@cuda.jit(\"void(float32[:,:],float32[:])\", fastmath=True)\n",
    "def bruteforce_potential(x, phi):\n",
    "    i, j = cuda.grid(2)\n",
    "    if i < x.shape[0] and j < x.shape[0] and j < i:\n",
    "        r = (\n",
    "            (x[i, 0] - x[j, 0]) * (x[i, 0] - x[j, 0])\n",
    "            + (x[i, 1] - x[j, 1]) * (x[i, 1] - x[j, 1])\n",
    "            + (x[i, 2] - x[j, 2]) * (x[i, 2] - x[j, 2])\n",
    "        )\n",
    "        dphi = -1 / sqrt(r)\n",
    "\n",
    "        cuda.atomic.add(phi, i, dphi)\n",
    "        cuda.atomic.add(phi, j, dphi)\n",
    "\n",
    "\n",
    "Np = 4096 * 32\n",
    "\n",
    "x = np.float32(np.random.rand(Np, 3))\n",
    "phi = np.zeros(Np)  # cuda.device_array(Np, dtype=np.float32); phi[:] = 0.\n",
    "\n",
    "\n",
    "threadsperblock = (16, 16)\n",
    "blockspergrid = (Np // threadsperblock[0], Np // threadsperblock[1])  # int(ceil(Np // threadsperblock))\n",
    "\n",
    "%timeit bruteforce_potential[blockspergrid,threadsperblock](x,phi)\n",
    "\n",
    "# @cuda.jit(\"void(float32[:], float32[:,:], float32[:], float32[:,:], float32)\",fastmath=True)\n",
    "# def GridSurfaceDensity_core_cuda(f, x2d, h, grid, size):\n",
    "#     res = np.int32(grid.shape[0])\n",
    "#     dx = np.float32(size / (res - 1))\n",
    "\n",
    "#     # numba provides this function for working out which element you're\n",
    "#     # supposed to be accessing\n",
    "#     i = cuda.grid(1)\n",
    "#     if i<f.shape[0]: # and j<n3.shape[1]: # check we're in range\n",
    "#        # print(i)\n",
    "#         # do work on a single element\n",
    "#         xs = x2d[i]\n",
    "#         hs = h[i]\n",
    "#         hs_sqr = hs*hs\n",
    "#         hinv = 1 / hs\n",
    "#         mh2 = f[i] * hinv * hinv * 1.8189136353359467\n",
    "\n",
    "#         gxmin = max(int((xs[0] - hs) / dx + 1), 0)\n",
    "#         gxmax = min(int((xs[0] + hs) / dx), res - 1)\n",
    "#         gymin = max(int((xs[1] - hs) / dx + 1), 0)\n",
    "#         gymax = min(int((xs[1] + hs) / dx), res - 1)\n",
    "\n",
    "#         for gx in range(gxmin, gxmax + 1):\n",
    "#             delta_x_Sqr = xs[0] - gx * dx\n",
    "#             delta_x_Sqr *= delta_x_Sqr\n",
    "#             for gy in range(gymin, gymax + 1):\n",
    "#                 delta_y_Sqr = xs[1] - gy * dx\n",
    "#                 delta_y_Sqr *= delta_y_Sqr\n",
    "#                 r = delta_x_Sqr + delta_y_Sqr\n",
    "#                 if r > hs_sqr:\n",
    "#                     continue\n",
    "#                 r = sqrt(r)\n",
    "#                 q = r * hinv\n",
    "#                 if q <= 0.5:\n",
    "#                     kernel = 1 - 6 * q * q * (1 - q)\n",
    "#                 else: # q <= 1.0:\n",
    "#                     a = 1 - q\n",
    "#                     kernel = 2 * a * a * a\n",
    "#                 cuda.atomic.add(grid, (gx,gy), kernel * mh2)\n",
    "# cuda.syncthreads()"
   ]
  },
  {
   "cell_type": "code",
   "execution_count": 4,
   "metadata": {},
   "outputs": [
    {
     "name": "stdout",
     "output_type": "stream",
     "text": [
      "4.55 s ± 87.7 ms per loop (mean ± std. dev. of 7 runs, 1 loop each)\n"
     ]
    }
   ],
   "source": [
    "from pytreegrav.bruteforce import Potential_bruteforce_parallel\n",
    "\n",
    "%timeit  Potential_bruteforce_parallel(x,np.ones(Np),np.zeros(Np))"
   ]
  },
  {
   "cell_type": "code",
   "execution_count": 39,
   "metadata": {},
   "outputs": [
    {
     "data": {
      "text/plain": [
       "array([-1883.2377, -1630.0737, -2068.1045, ..., -1790.0035, -1583.7726,\n",
       "       -1866.4478], dtype=float32)"
      ]
     },
     "execution_count": 39,
     "metadata": {},
     "output_type": "execute_result"
    }
   ],
   "source": [
    "phi.copy_to_host()"
   ]
  },
  {
   "cell_type": "code",
   "execution_count": null,
   "metadata": {},
   "outputs": [],
   "source": [
    "from pytreegrav.bruteforce import Po"
   ]
  }
 ],
 "metadata": {
  "kernelspec": {
   "display_name": "2023.2.0",
   "language": "python",
   "name": "python3"
  },
  "language_info": {
   "codemirror_mode": {
    "name": "ipython",
    "version": 3
   },
   "file_extension": ".py",
   "mimetype": "text/x-python",
   "name": "python",
   "nbconvert_exporter": "python",
   "pygments_lexer": "ipython3",
   "version": "3.9.16"
  }
 },
 "nbformat": 4,
 "nbformat_minor": 2
}
